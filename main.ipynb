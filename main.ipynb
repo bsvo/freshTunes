{
 "cells": [
  {
   "cell_type": "code",
   "execution_count": 3,
   "id": "2715ac10",
   "metadata": {},
   "outputs": [],
   "source": [
    "import spotipy\n",
    "from spotipy.oauth2 import SpotifyClientCredentials"
   ]
  },
  {
   "cell_type": "code",
   "execution_count": 38,
   "id": "9b0d5f87",
   "metadata": {},
   "outputs": [
    {
     "name": "stdout",
     "output_type": "stream",
     "text": [
      "{'added_at': '2020-08-02T20:42:21Z', 'added_by': {'external_urls': {'spotify': 'https://open.spotify.com/user/12176828559'}, 'href': 'https://api.spotify.com/v1/users/12176828559', 'id': '12176828559', 'type': 'user', 'uri': 'spotify:user:12176828559'}, 'is_local': False, 'primary_color': None, 'track': {'album': {'album_type': 'single', 'artists': [{'external_urls': {'spotify': 'https://open.spotify.com/artist/3F2OHxH7rWTkyfchtYA7bQ'}, 'href': 'https://api.spotify.com/v1/artists/3F2OHxH7rWTkyfchtYA7bQ', 'id': '3F2OHxH7rWTkyfchtYA7bQ', 'name': 'Jordan Solomon', 'type': 'artist', 'uri': 'spotify:artist:3F2OHxH7rWTkyfchtYA7bQ'}], 'available_markets': ['AR', 'AU', 'AT', 'BE', 'BO', 'BR', 'BG', 'CA', 'CL', 'CO', 'CR', 'CY', 'CZ', 'DK', 'DO', 'DE', 'EC', 'EE', 'SV', 'FI', 'FR', 'GR', 'GT', 'HN', 'HK', 'HU', 'IS', 'IE', 'IT', 'LV', 'LT', 'LU', 'MY', 'MT', 'MX', 'NL', 'NZ', 'NI', 'NO', 'PA', 'PY', 'PE', 'PH', 'PL', 'PT', 'SG', 'SK', 'ES', 'SE', 'CH', 'TW', 'TR', 'UY', 'US', 'GB', 'AD', 'LI', 'MC', 'ID', 'JP', 'TH', 'VN', 'RO', 'IL', 'ZA', 'SA', 'AE', 'BH', 'QA', 'OM', 'KW', 'EG', 'MA', 'DZ', 'TN', 'LB', 'JO', 'PS', 'IN', 'BY', 'KZ', 'MD', 'UA', 'AL', 'BA', 'HR', 'ME', 'MK', 'RS', 'SI', 'KR', 'BD', 'PK', 'LK', 'GH', 'KE', 'NG', 'TZ', 'UG', 'AG', 'AM', 'BS', 'BB', 'BZ', 'BT', 'BW', 'BF', 'CV', 'CW', 'DM', 'FJ', 'GM', 'GE', 'GD', 'GW', 'GY', 'HT', 'JM', 'KI', 'LS', 'LR', 'MW', 'MV', 'ML', 'MH', 'FM', 'NA', 'NR', 'NE', 'PW', 'PG', 'WS', 'SM', 'ST', 'SN', 'SC', 'SL', 'SB', 'KN', 'LC', 'VC', 'SR', 'TL', 'TO', 'TT', 'TV', 'VU', 'AZ', 'BN', 'BI', 'KH', 'CM', 'TD', 'KM', 'GQ', 'SZ', 'GA', 'GN', 'KG', 'LA', 'MO', 'MR', 'MN', 'NP', 'RW', 'TG', 'UZ', 'ZW', 'BJ', 'MG', 'MU', 'MZ', 'AO', 'CI', 'DJ', 'ZM', 'CD', 'CG', 'IQ', 'LY', 'TJ', 'VE', 'ET', 'XK'], 'external_urls': {'spotify': 'https://open.spotify.com/album/3aBJ4oHMRYj7VrjEPGgpp8'}, 'href': 'https://api.spotify.com/v1/albums/3aBJ4oHMRYj7VrjEPGgpp8', 'id': '3aBJ4oHMRYj7VrjEPGgpp8', 'images': [{'height': 640, 'url': 'https://i.scdn.co/image/ab67616d0000b273bebc40abf27e4ea152ae7dd2', 'width': 640}, {'height': 300, 'url': 'https://i.scdn.co/image/ab67616d00001e02bebc40abf27e4ea152ae7dd2', 'width': 300}, {'height': 64, 'url': 'https://i.scdn.co/image/ab67616d00004851bebc40abf27e4ea152ae7dd2', 'width': 64}], 'name': 'Buttercup', 'release_date': '2018-04-05', 'release_date_precision': 'day', 'total_tracks': 1, 'type': 'album', 'uri': 'spotify:album:3aBJ4oHMRYj7VrjEPGgpp8'}, 'artists': [{'external_urls': {'spotify': 'https://open.spotify.com/artist/3F2OHxH7rWTkyfchtYA7bQ'}, 'href': 'https://api.spotify.com/v1/artists/3F2OHxH7rWTkyfchtYA7bQ', 'id': '3F2OHxH7rWTkyfchtYA7bQ', 'name': 'Jordan Solomon', 'type': 'artist', 'uri': 'spotify:artist:3F2OHxH7rWTkyfchtYA7bQ'}], 'available_markets': ['AR', 'AU', 'AT', 'BE', 'BO', 'BR', 'BG', 'CA', 'CL', 'CO', 'CR', 'CY', 'CZ', 'DK', 'DO', 'DE', 'EC', 'EE', 'SV', 'FI', 'FR', 'GR', 'GT', 'HN', 'HK', 'HU', 'IS', 'IE', 'IT', 'LV', 'LT', 'LU', 'MY', 'MT', 'MX', 'NL', 'NZ', 'NI', 'NO', 'PA', 'PY', 'PE', 'PH', 'PL', 'PT', 'SG', 'SK', 'ES', 'SE', 'CH', 'TW', 'TR', 'UY', 'US', 'GB', 'AD', 'LI', 'MC', 'ID', 'JP', 'TH', 'VN', 'RO', 'IL', 'ZA', 'SA', 'AE', 'BH', 'QA', 'OM', 'KW', 'EG', 'MA', 'DZ', 'TN', 'LB', 'JO', 'PS', 'IN', 'BY', 'KZ', 'MD', 'UA', 'AL', 'BA', 'HR', 'ME', 'MK', 'RS', 'SI', 'KR', 'BD', 'PK', 'LK', 'GH', 'KE', 'NG', 'TZ', 'UG', 'AG', 'AM', 'BS', 'BB', 'BZ', 'BT', 'BW', 'BF', 'CV', 'CW', 'DM', 'FJ', 'GM', 'GE', 'GD', 'GW', 'GY', 'HT', 'JM', 'KI', 'LS', 'LR', 'MW', 'MV', 'ML', 'MH', 'FM', 'NA', 'NR', 'NE', 'PW', 'PG', 'WS', 'SM', 'ST', 'SN', 'SC', 'SL', 'SB', 'KN', 'LC', 'VC', 'SR', 'TL', 'TO', 'TT', 'TV', 'VU', 'AZ', 'BN', 'BI', 'KH', 'CM', 'TD', 'KM', 'GQ', 'SZ', 'GA', 'GN', 'KG', 'LA', 'MO', 'MR', 'MN', 'NP', 'RW', 'TG', 'UZ', 'ZW', 'BJ', 'MG', 'MU', 'MZ', 'AO', 'CI', 'DJ', 'ZM', 'CD', 'CG', 'IQ', 'LY', 'TJ', 'VE', 'ET', 'XK'], 'disc_number': 1, 'duration_ms': 138187, 'episode': False, 'explicit': False, 'external_ids': {'isrc': 'QM4DW1851160'}, 'external_urls': {'spotify': 'https://open.spotify.com/track/5hcPtz6PRGduqFcZlLg40Q'}, 'href': 'https://api.spotify.com/v1/tracks/5hcPtz6PRGduqFcZlLg40Q', 'id': '5hcPtz6PRGduqFcZlLg40Q', 'is_local': False, 'name': 'Buttercup', 'popularity': 30, 'preview_url': 'https://p.scdn.co/mp3-preview/4d168d829a8ff201a2549bb68994421ca12d092b?cid=b2c77acf5f6a4ae8aeff6720d5515970', 'track': True, 'track_number': 1, 'type': 'track', 'uri': 'spotify:track:5hcPtz6PRGduqFcZlLg40Q'}, 'video_thumbnail': {'url': None}}\n"
     ]
    }
   ],
   "source": [
    "import json\n",
    " \n",
    "f = open('keys.json')\n",
    "\n",
    "data = json.load(f)\n",
    "clientID = data['ClientID']\n",
    "ClientSecret = data['ClientSecret']\n",
    "\n",
    "#Authentication - without user\n",
    "credentials = SpotifyClientCredentials(client_id=clientID, client_secret=ClientSecret)\n",
    "sp = spotipy.Spotify(client_credentials_manager = credentials)\n",
    "\n",
    "playlists=sp.user_playlists('spotify')\n",
    "playlistUrl = \"https://open.spotify.com/playlist/6Mcqs2MuHNgOSs3LCeoCFn?si=da13f287eb674afc\"\n",
    "playlistUri = playlistUrl.split(\"/\")[-1].split(\"?\")[0]\n",
    "\n",
    "# gets first track from playlist\n",
    "print(sp.playlist(playlistUri)[\"tracks\"][\"items\"][0])"
   ]
  },
  {
   "cell_type": "code",
   "execution_count": null,
   "id": "f80f8c3e",
   "metadata": {},
   "outputs": [],
   "source": []
  }
 ],
 "metadata": {
  "kernelspec": {
   "display_name": "Python 3 (ipykernel)",
   "language": "python",
   "name": "python3"
  },
  "language_info": {
   "codemirror_mode": {
    "name": "ipython",
    "version": 3
   },
   "file_extension": ".py",
   "mimetype": "text/x-python",
   "name": "python",
   "nbconvert_exporter": "python",
   "pygments_lexer": "ipython3",
   "version": "3.9.12"
  }
 },
 "nbformat": 4,
 "nbformat_minor": 5
}
